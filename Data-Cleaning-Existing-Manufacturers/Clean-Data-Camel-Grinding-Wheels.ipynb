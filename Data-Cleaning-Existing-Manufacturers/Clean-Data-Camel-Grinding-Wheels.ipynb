{
 "cells": [
  {
   "cell_type": "code",
   "execution_count": 8,
   "metadata": {},
   "outputs": [
    {
     "name": "stdout",
     "output_type": "stream",
     "text": [
      "Empty DataFrame\n",
      "Columns: [48ws.com, Category, SKU #, Product Name, Image, Manufacturer_URL, Weight, Description, Quick Overview, Details, Group Name, Info/Size/Color, UPC]\n",
      "Index: []\n"
     ]
    }
   ],
   "source": [
    "import pandas as pd\n",
    "import glob\n",
    "import re\n",
    "\n",
    "# files_list = glob.glob(\"*Manufacturers*.csv\")\n",
    "# for file in files_list:\n",
    "\n",
    "file = \"Camel-Grinding-Wheels-ManufacturerExport-5-12-2021.csv\"\n",
    "df = pd.read_csv(file)\n",
    "\n",
    "needed_columns = ['48ws.com', 'Category', 'SKU #', 'Product Name', 'Image', 'Manufacturer_URL', 'Weight', 'Manufacturer', 'Description', 'Quick Overview', 'Details', 'Group Name', 'Info/Size/Color', 'UPC']\n",
    "\n",
    "df2 = pd.DataFrame(columns=needed_columns)\n",
    "print(df2.head())\n",
    "\n",
    "df=df.rename(columns = {'sku':'SKU #', 'manufacturer_id':'manufacturer'})\n",
    "\n",
    "limited_columns = ['sku', 'manufacturer_id', 'Group_Name']\n",
    "df ="
   ]
  },
  {
   "cell_type": "code",
   "execution_count": null,
   "metadata": {},
   "outputs": [],
   "source": []
  }
 ],
 "metadata": {
  "kernelspec": {
   "display_name": "Python 3",
   "language": "python",
   "name": "python3"
  },
  "language_info": {
   "codemirror_mode": {
    "name": "ipython",
    "version": 3
   },
   "file_extension": ".py",
   "mimetype": "text/x-python",
   "name": "python",
   "nbconvert_exporter": "python",
   "pygments_lexer": "ipython3",
   "version": "3.8.5"
  }
 },
 "nbformat": 4,
 "nbformat_minor": 4
}
