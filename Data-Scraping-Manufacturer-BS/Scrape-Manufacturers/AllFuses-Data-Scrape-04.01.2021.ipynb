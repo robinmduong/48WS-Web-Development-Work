{
 "cells": [
  {
   "cell_type": "code",
   "execution_count": 8,
   "metadata": {},
   "outputs": [],
   "source": [
    "import pandas as pd\n",
    "import bs4 as BeautifulSoup\n",
    "\n",
    "allfuses_excel = pd.read_excel('Allfuses-original-data-04.12.2021.xlsx')\n",
    "allfuses_excel.to_csv('Allfuses-original-data-04.12.2021.csv') #Convert Excel file to_csv"
   ]
  },
  {
   "cell_type": "code",
   "execution_count": null,
   "metadata": {},
   "outputs": [],
   "source": [
    "baseurl = 'http://www.allfuses.com'\n",
    "\n",
    "headers = {\n",
    "    # CHROME 80 on WINDOWS: https://developers.whatismybrowser.com/useragents/explore/software_type_specific/web-browser/?utm_source=whatismybrowsercom&utm_medium=internal&utm_campaign=breadcrumbs\n",
    "    'User-Agent': 'Mozilla/5.0 (Windows NT 10.0; Win64; x64) AppleWebKit/537.36 (KHTML, like Gecko) Chrome/80.0.3987.149 Safari/537.36'\n",
    "}\n",
    "\n",
    "productlinks = []\n",
    "\n",
    "for x in range(1, 2): # Range specifics the page range\n",
    "    r = requests.get(f'https://www.allfuses.com/all-products?p={x}&product_list_limit=100')\n",
    "    soup = BeautifulSoup(r.content, 'lxml')# r.content to get everything on the page\n",
    "    productlist = soup.find_all('li', class_='product-item')\n",
    "    for item in productlist:\n",
    "        for link in item.find_all('a', href=True):\n",
    "            productlinks.append(link['href'])\n",
    "\n",
    "itemlist = []\n",
    "\n",
    "for link in productlinks:\n",
    "    r = requests.get(link, headers=headers)\n",
    "\n",
    "    soup = BeautifulSoup(r.content, 'lxml')\n",
    "\n",
    "    name_description = soup.find('span', itemprop='name').get_text()\n",
    "    quick_overview = soup.find('div', itemprop='description').get_text()\n",
    "    details = soup.find('div', class_='product attribute description')\n",
    "    # image, weight, info_size_color \n",
    "    product = {\n",
    "        'sku': name_description,\n",
    "        'quick_overview': quick_overview,\n",
    "        'details': details,\n",
    "    }\n",
    "\n",
    "    itemlist.append(product)\n",
    "    \n",
    "print(itemlist)"
   ]
  },
  {
   "cell_type": "code",
   "execution_count": null,
   "metadata": {},
   "outputs": [],
   "source": []
  }
 ],
 "metadata": {
  "kernelspec": {
   "display_name": "Python 3",
   "language": "python",
   "name": "python3"
  },
  "language_info": {
   "codemirror_mode": {
    "name": "ipython",
    "version": 3
   },
   "file_extension": ".py",
   "mimetype": "text/x-python",
   "name": "python",
   "nbconvert_exporter": "python",
   "pygments_lexer": "ipython3",
   "version": "3.8.5"
  }
 },
 "nbformat": 4,
 "nbformat_minor": 4
}
